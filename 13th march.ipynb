{
 "cells": [
  {
   "cell_type": "code",
   "execution_count": null,
   "id": "3a70b73d",
   "metadata": {},
   "outputs": [],
   "source": [
    "Q1. Assumptions and Violations in ANOVA:\n",
    "\n",
    "Assumptions:\n",
    "Normality: The dependent variable should be approximately normally distributed within each group.\n",
    "Homogeneity of Variances: The variances of the groups should be approxmately equal.\n",
    "Independence: Observations within each group must be independent.\n",
    "Violations:\n",
    "Skewed Distributions: If the data in any group is highly skewed, it may violate the normality assumption.\n",
    "Heterogeneous Variances: If the variances in the groups are substantially different, it violates the assumption of homogeneity.\n",
    "Correlated Observations: If observations within groups are not independent, it violates the independence assumption.\n"
   ]
  },
  {
   "cell_type": "code",
   "execution_count": null,
   "id": "36d4811e",
   "metadata": {},
   "outputs": [],
   "source": [
    "Q2. Three Types of ANOVA:\n",
    "\n",
    "One-Way ANOVA: Used when comparing means across two or more independent groups.\n",
    "Two-Way ANOVA: Used when there are two independent variables and their interaction effect needs to be examined.\n",
    "Repeated Measures ANOVA: Used when the same subjects are used for each treatment (within-subjects design).\n"
   ]
  },
  {
   "cell_type": "code",
   "execution_count": null,
   "id": "280b780a",
   "metadata": {},
   "outputs": [],
   "source": [
    "Q3. Partitioning of Variance:\n",
    "\n",
    "In ANOV of Squares (SSR): Unexplained variability or error.\n",
    "Understanding this helps assess how much of the total variability is accounted for by the model.\n"
   ]
  },
  {
   "cell_type": "code",
   "execution_count": 3,
   "id": "b34990b9",
   "metadata": {},
   "outputs": [
    {
     "ename": "NameError",
     "evalue": "name 'df' is not defined",
     "output_type": "error",
     "traceback": [
      "\u001b[1;31m---------------------------------------------------------------------------\u001b[0m",
      "\u001b[1;31mNameError\u001b[0m                                 Traceback (most recent call last)",
      "Cell \u001b[1;32mIn[3], line 7\u001b[0m\n\u001b[0;32m      4\u001b[0m \u001b[38;5;28;01mfrom\u001b[39;00m \u001b[38;5;21;01mstatsmodels\u001b[39;00m\u001b[38;5;21;01m.\u001b[39;00m\u001b[38;5;21;01mapi\u001b[39;00m \u001b[38;5;28;01mimport\u001b[39;00m OLS, add_constant\n\u001b[0;32m      6\u001b[0m \u001b[38;5;66;03m# Assuming data is in a DataFrame called 'df' with columns 'group' and 'value'\u001b[39;00m\n\u001b[1;32m----> 7\u001b[0m model \u001b[38;5;241m=\u001b[39m OLS\u001b[38;5;241m.\u001b[39mfrom_formula(\u001b[38;5;124m'\u001b[39m\u001b[38;5;124mvalue ~ group\u001b[39m\u001b[38;5;124m'\u001b[39m, data\u001b[38;5;241m=\u001b[39m\u001b[43mdf\u001b[49m)\u001b[38;5;241m.\u001b[39mfit()\n\u001b[0;32m      8\u001b[0m anova_table \u001b[38;5;241m=\u001b[39m stats\u001b[38;5;241m.\u001b[39manova_lm(model)\n\u001b[0;32m      9\u001b[0m SST \u001b[38;5;241m=\u001b[39m anova_table[\u001b[38;5;124m'\u001b[39m\u001b[38;5;124msum_sq\u001b[39m\u001b[38;5;124m'\u001b[39m][\u001b[38;5;124m'\u001b[39m\u001b[38;5;124mgroup\u001b[39m\u001b[38;5;124m'\u001b[39m] \u001b[38;5;241m+\u001b[39m anova_table[\u001b[38;5;124m'\u001b[39m\u001b[38;5;124msum_sq\u001b[39m\u001b[38;5;124m'\u001b[39m][\u001b[38;5;124m'\u001b[39m\u001b[38;5;124mResidual\u001b[39m\u001b[38;5;124m'\u001b[39m]\n",
      "\u001b[1;31mNameError\u001b[0m: name 'df' is not defined"
     ]
    }
   ],
   "source": [
    "#Q4. Calculating SST, SSE, and SSR in One-Way ANOVA using Python:\n",
    "\n",
    "import scipy.stats as stats\n",
    "from statsmodels.api import OLS, add_constant\n",
    "\n",
    "# Assuming data is in a DataFrame called 'df' with columns 'group' and 'value'\n",
    "model = OLS.from_formula('value ~ group', data=df).fit()\n",
    "anova_table = stats.anova_lm(model)\n",
    "SST = anova_table['sum_sq']['group'] + anova_table['sum_sq']['Residual']\n",
    "SSE = anova_table['sum_sq']['group']\n",
    "SSR = anova_table['sum_sq']['Residual']\n"
   ]
  },
  {
   "cell_type": "code",
   "execution_count": null,
   "id": "b984c014",
   "metadata": {},
   "outputs": [],
   "source": [
    "# Q5. Calculating Main and Interaction Effects in Two-Way ANOVA using Python:\n",
    "\n",
    "# This typically involves using more advanced libraries like statsmodels or scipy.stats.\n"
   ]
  },
  {
   "cell_type": "code",
   "execution_count": null,
   "id": "96a63ce0",
   "metadata": {},
   "outputs": [],
   "source": [
    "# Q6. Interpreting One-Way ANOVA Results:\n",
    "\n",
    "# With an F-statistic of 5.23 and a p-value of 0.02, you can conclude that there are significant differences between the groups. The p-value (0.02) is less than the significance level (e.g., 0.05), suggesting that you reject the null hypothesis.\n"
   ]
  },
  {
   "cell_type": "code",
   "execution_count": null,
   "id": "ab2a96cf",
   "metadata": {},
   "outputs": [],
   "source": [
    "# Q7. Handling Missing Data in Repeated Measures ANOVA:\n",
    "\n",
    "# Methods include pairwise deletion, mean imputation, or using advanced techniques like multiple imputation. Consequences include biased estimates and reduced power.\n"
   ]
  },
  {
   "cell_type": "code",
   "execution_count": null,
   "id": "98d6f55a",
   "metadata": {},
   "outputs": [],
   "source": [
    "# Q8. Common Post-hoc Tests:\n",
    "\n",
    "# Examples include Tukey's HSD (Honestly Significant Difference), Bonferroni correction, and Sidak correction. Use post-hoc tests when you have rejected the null hypothesis in ANOVA to identify which groups differ significantly.\n"
   ]
  },
  {
   "cell_type": "code",
   "execution_count": null,
   "id": "e5703895",
   "metadata": {},
   "outputs": [],
   "source": [
    "#q9\n",
    "# Assuming data is in a DataFrame called 'df' with columns 'diet' and 'weight_loss'\n",
    "f_statistic, p_value = stats.f_oneway(df['weight_loss'][df['diet'] == 'A'],\n",
    "                                       df['weight_loss'][df['diet'] == 'B'],\n",
    "                                       df['weight_loss'][df['diet'] == 'C'])\n"
   ]
  },
  {
   "cell_type": "code",
   "execution_count": null,
   "id": "d0773be9",
   "metadata": {},
   "outputs": [],
   "source": [
    "#Q10. Two-Way ANOVA in Python:\n",
    "\n",
    "\n",
    "import statsmodels.api as sm\n",
    "from statsmodels.formula.api import ols\n",
    "\n",
    "# Assuming data is in a DataFrame called 'df' with columns 'time', 'program', 'experience', and 'completion_time'\n",
    "model = ols('completion_time ~ C(program) + C(experience) + C(program):C(experience)', data=df).fit()\n",
    "anova_table = sm.stats.anova_lm(model, typ=2)\n"
   ]
  },
  {
   "cell_type": "code",
   "execution_count": null,
   "id": "612c5e7f",
   "metadata": {},
   "outputs": [],
   "source": [
    "#Q11. Two-Sample t-test in Python:\n",
    "\n",
    "from scipy.stats import ttest_ind\n",
    "\n",
    "# Assuming data is in two arrays 'control_group' and 'experimental_group'\n",
    "t_statistic, p_value = ttest_ind(control_group, experimental_group)\n"
   ]
  },
  {
   "cell_type": "code",
   "execution_count": null,
   "id": "e70a633c",
   "metadata": {},
   "outputs": [],
   "source": [
    "#Q12 Repeated Measures ANOVA in Python:\n",
    "import statsmodels.api as sm\n",
    "from statsmodels.stats.anova import AnovaRM\n",
    "\n",
    "# Assuming data is in a DataFrame called 'df' with columns 'store', 'day', and 'sales'\n",
    "anova_rm = AnovaRM(df, 'sales', 'store', within=['day'])\n",
    "results = anova_rm.fit()"
   ]
  }
 ],
 "metadata": {
  "kernelspec": {
   "display_name": "Python 3 (ipykernel)",
   "language": "python",
   "name": "python3"
  },
  "language_info": {
   "codemirror_mode": {
    "name": "ipython",
    "version": 3
   },
   "file_extension": ".py",
   "mimetype": "text/x-python",
   "name": "python",
   "nbconvert_exporter": "python",
   "pygments_lexer": "ipython3",
   "version": "3.11.2"
  }
 },
 "nbformat": 4,
 "nbformat_minor": 5
}
